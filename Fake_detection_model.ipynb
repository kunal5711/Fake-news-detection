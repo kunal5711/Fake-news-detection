{
 "cells": [
  {
   "cell_type": "markdown",
   "id": "594de9df-c9c0-44f0-8241-637c9cce408d",
   "metadata": {},
   "source": [
    "## Training the model"
   ]
  },
  {
   "cell_type": "code",
   "execution_count": 38,
   "id": "98709a5d-0b7b-490f-b95b-d3b8388c86f4",
   "metadata": {},
   "outputs": [],
   "source": [
    "import numpy as np\n",
    "import pandas as pd\n",
    "import sklearn"
   ]
  },
  {
   "cell_type": "code",
   "execution_count": 22,
   "id": "c9483074-4e19-4224-bd50-14294d0a149a",
   "metadata": {},
   "outputs": [],
   "source": [
    "fake = pd.read_csv(r\"Dataset/Fake.csv\")\n",
    "true = pd.read_csv(r\"Dataset/True.csv\")"
   ]
  },
  {
   "cell_type": "code",
   "execution_count": 23,
   "id": "31daef32-054d-4cf7-a2dc-620c7add2266",
   "metadata": {},
   "outputs": [],
   "source": [
    "fake['label'] = 0\n",
    "true['label'] = 1"
   ]
  },
  {
   "cell_type": "code",
   "execution_count": 24,
   "id": "5f859bc8-c852-4a31-8efc-cda3362647c7",
   "metadata": {},
   "outputs": [],
   "source": [
    "data = pd.concat([fake, true], axis = 0)"
   ]
  },
  {
   "cell_type": "code",
   "execution_count": 25,
   "id": "70624f0a-c386-4377-847f-de3e55cf3970",
   "metadata": {},
   "outputs": [],
   "source": [
    "data = data.sample(frac=1)"
   ]
  },
  {
   "cell_type": "code",
   "execution_count": 26,
   "id": "e0761166-c4c2-4f0a-bb53-b92e80893eef",
   "metadata": {},
   "outputs": [],
   "source": [
    "data.reset_index(inplace = True, drop =True)"
   ]
  },
  {
   "cell_type": "code",
   "execution_count": 31,
   "id": "04928ae1-37e9-4991-9f44-0cd2a7803fc5",
   "metadata": {},
   "outputs": [],
   "source": [
    "data.drop(['title', 'subject', 'date'], axis=1, inplace = True)"
   ]
  },
  {
   "cell_type": "code",
   "execution_count": 32,
   "id": "f96b0ba3-cade-450b-86bb-c136dc298441",
   "metadata": {},
   "outputs": [
    {
     "data": {
      "text/html": [
       "<div>\n",
       "<style scoped>\n",
       "    .dataframe tbody tr th:only-of-type {\n",
       "        vertical-align: middle;\n",
       "    }\n",
       "\n",
       "    .dataframe tbody tr th {\n",
       "        vertical-align: top;\n",
       "    }\n",
       "\n",
       "    .dataframe thead th {\n",
       "        text-align: right;\n",
       "    }\n",
       "</style>\n",
       "<table border=\"1\" class=\"dataframe\">\n",
       "  <thead>\n",
       "    <tr style=\"text-align: right;\">\n",
       "      <th></th>\n",
       "      <th>text</th>\n",
       "      <th>label</th>\n",
       "    </tr>\n",
       "  </thead>\n",
       "  <tbody>\n",
       "    <tr>\n",
       "      <th>0</th>\n",
       "      <td>A city in Pennsylvania is removing a park benc...</td>\n",
       "      <td>0</td>\n",
       "    </tr>\n",
       "    <tr>\n",
       "      <th>1</th>\n",
       "      <td>The idea of a Donald Trump presidency has been...</td>\n",
       "      <td>0</td>\n",
       "    </tr>\n",
       "    <tr>\n",
       "      <th>2</th>\n",
       "      <td>21st Century Wire says While America s politic...</td>\n",
       "      <td>0</td>\n",
       "    </tr>\n",
       "    <tr>\n",
       "      <th>3</th>\n",
       "      <td>Organized protesters took to the streets outsi...</td>\n",
       "      <td>0</td>\n",
       "    </tr>\n",
       "    <tr>\n",
       "      <th>4</th>\n",
       "      <td>UNITED NATIONS (Reuters) - Amid a U.S. push to...</td>\n",
       "      <td>1</td>\n",
       "    </tr>\n",
       "  </tbody>\n",
       "</table>\n",
       "</div>"
      ],
      "text/plain": [
       "                                                text  label\n",
       "0  A city in Pennsylvania is removing a park benc...      0\n",
       "1  The idea of a Donald Trump presidency has been...      0\n",
       "2  21st Century Wire says While America s politic...      0\n",
       "3  Organized protesters took to the streets outsi...      0\n",
       "4  UNITED NATIONS (Reuters) - Amid a U.S. push to...      1"
      ]
     },
     "execution_count": 32,
     "metadata": {},
     "output_type": "execute_result"
    }
   ],
   "source": [
    "data.head()"
   ]
  },
  {
   "cell_type": "code",
   "execution_count": 35,
   "id": "0dbb3785-2eaf-4016-836f-b1584bacb015",
   "metadata": {},
   "outputs": [
    {
     "name": "stderr",
     "output_type": "stream",
     "text": [
      "<>:12: SyntaxWarning: invalid escape sequence '\\w'\n",
      "<>:12: SyntaxWarning: invalid escape sequence '\\w'\n",
      "C:\\Users\\Ps199\\AppData\\Local\\Temp\\ipykernel_4504\\1315445090.py:12: SyntaxWarning: invalid escape sequence '\\w'\n",
      "  text = re.sub('[^\\w\\s]', \"\", text)\n"
     ]
    }
   ],
   "source": [
    "import re\n",
    "\n",
    "def word(text):\n",
    "    \n",
    "    # Convert into lowercase\n",
    "    text = text.lower()\n",
    "    # Remove urls\n",
    "    text = re.sub(r\"https?://\\S+|www\\.\\S+\", \"\", text)\n",
    "    # Remove HTML tags\n",
    "    text = re.sub(r\"<.*?>\", \"\", text)\n",
    "    # Remove punctations\n",
    "    text = re.sub('[^\\w\\s]', \"\", text)\n",
    "    # Remvoe digits\n",
    "    text = re.sub(r\"\\d\", \"\", text)\n",
    "    # Remove newline characters\n",
    "    text = re.sub(r\"\\n\", \" \", text)\n",
    "\n",
    "    return text"
   ]
  },
  {
   "cell_type": "code",
   "execution_count": 36,
   "id": "ad1f1186-ef56-40bc-a48c-0227647a93df",
   "metadata": {},
   "outputs": [],
   "source": [
    "data['text'] = data['text'].apply(word)"
   ]
  },
  {
   "cell_type": "code",
   "execution_count": 67,
   "id": "2fe900a1-3a5f-4e85-8175-428b599bed48",
   "metadata": {},
   "outputs": [
    {
     "name": "stdout",
     "output_type": "stream",
     "text": [
      "<class 'pandas.core.series.Series'>\n"
     ]
    }
   ],
   "source": [
    "x = data['text']\n",
    "y = data['label']"
   ]
  },
  {
   "cell_type": "code",
   "execution_count": 40,
   "id": "ffdc1aa9-fd4d-41f8-825b-a28e2eaaae5c",
   "metadata": {},
   "outputs": [],
   "source": [
    "from sklearn.model_selection import train_test_split\n",
    "x_train, x_test, y_train, y_test = train_test_split(x, y, test_size = 0.3)"
   ]
  },
  {
   "cell_type": "code",
   "execution_count": 43,
   "id": "c864f81c-671d-4bf1-a157-cc02d6c1fdfa",
   "metadata": {},
   "outputs": [],
   "source": [
    "from sklearn.feature_extraction.text import TfidfVectorizer\n",
    "\n",
    "vectorizer = TfidfVectorizer()\n",
    "xt_train = vectorizer.fit_transform(x_train)\n",
    "xt_test = vectorizer.transform(x_test)"
   ]
  },
  {
   "cell_type": "code",
   "execution_count": 55,
   "id": "f76a4fca-94c1-42e3-b87a-560e0a8ca2d8",
   "metadata": {},
   "outputs": [],
   "source": [
    "from sklearn.tree import DecisionTreeClassifier\n",
    "\n",
    "dtc = DecisionTreeClassifier()\n",
    "dtc.fit(xt_train, y_train)"
   ]
  },
  {
   "cell_type": "code",
   "execution_count": 56,
   "id": "f64f1f16-ffba-48b8-9fab-e2f7d515bd05",
   "metadata": {},
   "outputs": [],
   "source": [
    "y_preds = dtc.predict(xt_test)"
   ]
  },
  {
   "cell_type": "code",
   "execution_count": 57,
   "id": "476d8155-eff6-4201-bc16-c15872a0bd2b",
   "metadata": {},
   "outputs": [
    {
     "data": {
      "text/plain": [
       "0.9953971789161099"
      ]
     },
     "execution_count": 57,
     "metadata": {},
     "output_type": "execute_result"
    }
   ],
   "source": [
    "dtc.score(xt_test, y_test)"
   ]
  },
  {
   "cell_type": "code",
   "execution_count": 70,
   "id": "5a392ee7-4c13-4042-b6b9-30b0b8df4d22",
   "metadata": {},
   "outputs": [
    {
     "name": "stdout",
     "output_type": "stream",
     "text": [
      "              precision    recall  f1-score   support\n",
      "\n",
      "           0       1.00      1.00      1.00      7064\n",
      "           1       1.00      0.99      1.00      6406\n",
      "\n",
      "    accuracy                           1.00     13470\n",
      "   macro avg       1.00      1.00      1.00     13470\n",
      "weighted avg       1.00      1.00      1.00     13470\n",
      "\n"
     ]
    }
   ],
   "source": [
    "from sklearn.metrics import classification_report\n",
    "print(classification_report(y_test, y_preds))"
   ]
  },
  {
   "cell_type": "markdown",
   "id": "dbf62cca-dad2-4d1e-b7c0-a18f9dfbb87d",
   "metadata": {},
   "source": [
    "## Testing the model"
   ]
  },
  {
   "cell_type": "code",
   "execution_count": 73,
   "id": "cede1a13-8cd2-402b-8390-cfd7f51ea882",
   "metadata": {},
   "outputs": [
    {
     "name": "stdout",
     "output_type": "stream",
     "text": [
      "It is a fake news\n"
     ]
    }
   ],
   "source": [
    "# Load the vectorizer\n",
    "with open('vectorizer.pkl', 'rb') as file:\n",
    "    vectorizer = pickle.load(file)\n",
    "\n",
    "# Load the model\n",
    "with open('model.pkl', 'rb') as file:\n",
    "    model = pickle.load(file)\n",
    "\n",
    "def manual_testing(news):\n",
    "    df_test = {\"text\": pd.Series([news])}\n",
    "    df_test['text'] = df_test['text'].apply(word)\n",
    "    df_test['text'] = vectorizer.transform(df_test['text'])\n",
    "    y_preds = dtc.predict(df_test['text'])\n",
    "    if y_preds == 0:\n",
    "        print(\"It is a fake news\")\n",
    "    else:\n",
    "        print(\"It is a genuine news\")\n",
    "\n",
    "news_article = \"Top Canada officials admit they leaked info on Amit Shah, Indian ‘interference’ to US daily\"\n",
    "manual_testing(news_article)"
   ]
  },
  {
   "cell_type": "markdown",
   "id": "3bf652aa-755d-446d-a58f-0c848478b049",
   "metadata": {},
   "source": [
    "## Saving vectorizer and model"
   ]
  },
  {
   "cell_type": "code",
   "execution_count": 72,
   "id": "53bee2da-766f-4ebd-81f5-cad1f9439127",
   "metadata": {},
   "outputs": [],
   "source": [
    "import pickle\n",
    "\n",
    "# Save the vectorizer\n",
    "with open('vectorizer.pkl', 'wb') as file:\n",
    "    pickle.dump(vectorizer, file)\n",
    "\n",
    "# Save the model\n",
    "with open('model.pkl', 'wb') as file:\n",
    "    pickle.dump(dtc, file)"
   ]
  },
  {
   "cell_type": "code",
   "execution_count": null,
   "id": "d6208a6f-a316-4364-93f0-1bf440288679",
   "metadata": {},
   "outputs": [],
   "source": []
  }
 ],
 "metadata": {
  "kernelspec": {
   "display_name": "Python 3 (ipykernel)",
   "language": "python",
   "name": "python3"
  },
  "language_info": {
   "codemirror_mode": {
    "name": "ipython",
    "version": 3
   },
   "file_extension": ".py",
   "mimetype": "text/x-python",
   "name": "python",
   "nbconvert_exporter": "python",
   "pygments_lexer": "ipython3",
   "version": "3.12.3"
  }
 },
 "nbformat": 4,
 "nbformat_minor": 5
}
